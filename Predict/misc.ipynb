{
 "cells": [
  {
   "cell_type": "code",
   "execution_count": 2,
   "metadata": {},
   "outputs": [],
   "source": [
    "import pandas as pd\n",
    "\n",
    "finalists=pd.read_csv(\"2023_screening_result.csv\")\n",
    "\n",
    "\n",
    "finalists = finalists.drop(['PS CATEGORY','COLLEGE ID','STATUS','NODAL CENTER'], axis=1)\n",
    "\n",
    "finalists.to_csv('modified_finalists.csv', index=False)\n",
    "\n"
   ]
  },
  {
   "cell_type": "code",
   "execution_count": 9,
   "metadata": {},
   "outputs": [
    {
     "name": "stderr",
     "output_type": "stream",
     "text": [
      "C:\\Users\\Pavilion\\AppData\\Local\\Temp\\ipykernel_16116\\1947722226.py:8: FutureWarning: DataFrame.applymap has been deprecated. Use DataFrame.map instead.\n",
      "  combined[columns_to_capitalize] = combined[columns_to_capitalize].applymap(lambda x: x.upper() if isinstance(x, str) else x)\n"
     ]
    }
   ],
   "source": [
    "import pandas as pd\n",
    "\n",
    "combined=pd.read_csv(\"modified_combined.csv\")\n",
    "\n",
    "\n",
    "\n",
    "columns_to_capitalize = ['Name of the Institute']\n",
    "combined[columns_to_capitalize] = combined[columns_to_capitalize].applymap(lambda x: x.upper() if isinstance(x, str) else x)\n",
    "\n",
    "combined.to_csv('modified_combined_final.csv', index=False)\n",
    "\n"
   ]
  }
 ],
 "metadata": {
  "kernelspec": {
   "display_name": "Python 3",
   "language": "python",
   "name": "python3"
  },
  "language_info": {
   "codemirror_mode": {
    "name": "ipython",
    "version": 3
   },
   "file_extension": ".py",
   "mimetype": "text/x-python",
   "name": "python",
   "nbconvert_exporter": "python",
   "pygments_lexer": "ipython3",
   "version": "3.12.7"
  }
 },
 "nbformat": 4,
 "nbformat_minor": 2
}
